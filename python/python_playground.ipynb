{
  "nbformat": 4,
  "nbformat_minor": 0,
  "metadata": {
    "colab": {
      "provenance": [],
      "toc_visible": true,
      "authorship_tag": "ABX9TyO+lo0/1hN4vIree+CAUdkP",
      "include_colab_link": true
    },
    "kernelspec": {
      "name": "python3",
      "display_name": "Python 3"
    },
    "language_info": {
      "name": "python"
    }
  },
  "cells": [
    {
      "cell_type": "markdown",
      "metadata": {
        "id": "view-in-github",
        "colab_type": "text"
      },
      "source": [
        "<a href=\"https://colab.research.google.com/github/thinkaboutcode/cheatsheets/blob/main/python_playground.ipynb\" target=\"_parent\"><img src=\"https://colab.research.google.com/assets/colab-badge.svg\" alt=\"Open In Colab\"/></a>"
      ]
    },
    {
      "cell_type": "markdown",
      "source": [
        "# Observer Pattern"
      ],
      "metadata": {
        "id": "MsTmDbSa8Lke"
      }
    },
    {
      "cell_type": "code",
      "source": [
        "# The Subject class\n",
        "class Subject:\n",
        "    def __init__(self):\n",
        "        self._observers = []  # List of observers\n",
        "\n",
        "    def attach(self, observer):\n",
        "        \"\"\"Attach an observer to the subject.\"\"\"\n",
        "        if observer not in self._observers:\n",
        "            self._observers.append(observer)\n",
        "\n",
        "    def detach(self, observer):\n",
        "        \"\"\"Detach an observer from the subject.\"\"\"\n",
        "        if observer in self._observers:\n",
        "            self._observers.remove(observer)\n",
        "\n",
        "    def notify(self):\n",
        "        \"\"\"Notify all observers about a state change.\"\"\"\n",
        "        for observer in self._observers:\n",
        "            observer.update(self)\n",
        "\n",
        "\n",
        "# The Observer interface\n",
        "class Observer:\n",
        "    def update(self, subject):\n",
        "        \"\"\"Receive update from the subject.\"\"\"\n",
        "        raise NotImplementedError(\"Subclasses must implement 'update' method.\")\n",
        "\n",
        "\n",
        "# Concrete Subject\n",
        "class MessageBroker(Subject):\n",
        "    def __init__(self):\n",
        "        super().__init__()\n",
        "        self._message = None\n",
        "\n",
        "    @property\n",
        "    def message(self):\n",
        "        return self._message\n",
        "\n",
        "    @message.setter\n",
        "    def message(self, value):\n",
        "        self._message = value\n",
        "        self.notify()  # Notify observers when temperature changes\n",
        "\n",
        "\n",
        "class SubscriberA(Observer):\n",
        "    def update(self, subject):\n",
        "        if isinstance(subject, MessageBroker):\n",
        "            print(f\"SubscriberA received message: {subject.message}\")\n",
        "\n",
        "\n",
        "class SubscriberB(Observer):\n",
        "    def update(self, subject):\n",
        "        if isinstance(subject, MessageBroker):\n",
        "            print(f\"SubscriberB received message: {subject.message}\")\n",
        "\n",
        "\n",
        "broker = MessageBroker()\n",
        "subscriber_a = SubscriberA()\n",
        "subscriber_b = SubscriberB()\n",
        "\n",
        "broker.attach(subscriber_a)\n",
        "broker.attach(subscriber_b)\n",
        "\n",
        "broker.message = \"Hello, subscribers!\""
      ],
      "metadata": {
        "colab": {
          "base_uri": "https://localhost:8080/"
        },
        "id": "M2SMo7M-nQGL",
        "outputId": "bce2cf88-c550-4934-a9e4-a6ca0ab4524d"
      },
      "execution_count": 33,
      "outputs": [
        {
          "output_type": "stream",
          "name": "stdout",
          "text": [
            "SubscriberA received message: Hello, subscribers!\n",
            "SubscriberB received message: Hello, subscribers!\n"
          ]
        }
      ]
    },
    {
      "cell_type": "markdown",
      "source": [
        "# Decorator"
      ],
      "metadata": {
        "id": "8FSg81zd8YNb"
      }
    },
    {
      "cell_type": "code",
      "source": [
        "def logging_decorator(orig_func):\n",
        "\n",
        "  def wrapper(*args):\n",
        "    print(\"before\")\n",
        "    for arg in args:\n",
        "      print(arg)\n",
        "\n",
        "    orig_func()\n",
        "\n",
        "    print(\"after\")\n",
        "\n",
        "  return wrapper\n",
        "\n",
        "@logging_decorator\n",
        "def display(*args):\n",
        "  print(\"display function ran\")\n",
        "\n",
        "display('a', 'b')"
      ],
      "metadata": {
        "colab": {
          "base_uri": "https://localhost:8080/"
        },
        "id": "pF7f1SZIv5Kf",
        "outputId": "7a1b4b73-326e-46f5-a3ac-857ff0ecdda9"
      },
      "execution_count": 46,
      "outputs": [
        {
          "output_type": "stream",
          "name": "stdout",
          "text": [
            "before\n",
            "a\n",
            "b\n",
            "display function ran\n",
            "after\n"
          ]
        }
      ]
    },
    {
      "cell_type": "markdown",
      "source": [
        "# Generator"
      ],
      "metadata": {
        "id": "a15I_dj18hc7"
      }
    },
    {
      "cell_type": "code",
      "source": [
        "def infinite_sequence():\n",
        "    n = 1\n",
        "    while True:\n",
        "        yield n  # Generate the next value\n",
        "        n += 1\n",
        "\n",
        "\n",
        "gen = infinite_sequence()\n",
        "print(next(gen))\n",
        "print(next(gen))\n",
        "print('doing other stuff')\n",
        "print(next(gen))\n",
        "print(next(gen))\n"
      ],
      "metadata": {
        "colab": {
          "base_uri": "https://localhost:8080/"
        },
        "id": "15N2hytlzrE0",
        "outputId": "da30a7b1-d548-4d45-f77f-5d1380d4e26f"
      },
      "execution_count": 50,
      "outputs": [
        {
          "output_type": "stream",
          "name": "stdout",
          "text": [
            "1\n",
            "2\n",
            "doing other stuff\n",
            "3\n",
            "4\n"
          ]
        }
      ]
    },
    {
      "cell_type": "code",
      "source": [
        "def read_data():\n",
        "    \"\"\"Simulate reading raw data from a file or source.\"\"\"\n",
        "    data = [\n",
        "        \"Alice, alice@example.com, 30\",\n",
        "        \"Bob, bob@example, -5\",          # Invalid email and age\n",
        "        \"Charlie, , 25\",                # Missing email\n",
        "        \"Diana, diana@example.com, 40\",\n",
        "        \"Edward, edward@example.com, invalid\",  # Invalid age\n",
        "    ]\n",
        "    for row in data:\n",
        "        yield row\n",
        "\n",
        "\n",
        "def filter_invalid_data(data_gen):\n",
        "    \"\"\"Filter out rows with missing or invalid fields.\"\"\"\n",
        "    for row in data_gen:\n",
        "        try:\n",
        "            name, email, age = row.split(\",\")\n",
        "            name, email, age = name.strip(), email.strip(), age.strip()\n",
        "\n",
        "            # Check for missing or invalid fields\n",
        "            if not name or not email or not age.isdigit() or int(age) < 0:\n",
        "                continue  # Skip invalid rows\n",
        "\n",
        "            yield name, email, int(age)\n",
        "\n",
        "        except ValueError:\n",
        "            continue  # Skip rows with parsing errors\n",
        "\n",
        "\n",
        "def normalize_data(data_gen):\n",
        "    \"\"\"Normalize and clean the data.\"\"\"\n",
        "    for name, email, age in data_gen:\n",
        "        # Capitalize names\n",
        "        name = name.title()\n",
        "\n",
        "        # Lowercase emails\n",
        "        email = email.lower()\n",
        "\n",
        "        yield {\"name\": name, \"email\": email, \"age\": age}\n",
        "\n",
        "\n",
        "# Assemble the pipeline\n",
        "raw_data = read_data()\n",
        "filtered_data = filter_invalid_data(raw_data)\n",
        "cleaned_data = normalize_data(filtered_data)\n",
        "\n",
        "# Process the cleaned data\n",
        "for record in cleaned_data:\n",
        "    print(record)\n"
      ],
      "metadata": {
        "colab": {
          "base_uri": "https://localhost:8080/"
        },
        "id": "gu3eI9d81he_",
        "outputId": "5caeea01-f5e3-47d3-e0d3-c581b2900acb"
      },
      "execution_count": 51,
      "outputs": [
        {
          "output_type": "stream",
          "name": "stdout",
          "text": [
            "{'name': 'Alice', 'email': 'alice@example.com', 'age': 30}\n",
            "{'name': 'Diana', 'email': 'diana@example.com', 'age': 40}\n"
          ]
        }
      ]
    },
    {
      "cell_type": "markdown",
      "source": [
        "# Context Manager"
      ],
      "metadata": {
        "id": "Qsqoo8Y-80SX"
      }
    },
    {
      "cell_type": "code",
      "source": [
        "class MyContextManager:\n",
        "    def __enter__(self):\n",
        "        print(\"Entering the context\")\n",
        "        return self\n",
        "    def __exit__(self, exc_type, exc_val, exc_tb):\n",
        "        print(\"Exiting the context\")\n",
        "\n",
        "with MyContextManager():\n",
        "    print(\"Inside the context\")\n",
        "\n"
      ],
      "metadata": {
        "colab": {
          "base_uri": "https://localhost:8080/"
        },
        "id": "PNCpiBIR3F3l",
        "outputId": "cb46dcf5-c364-4ca8-ca3f-a2a6e7593877"
      },
      "execution_count": 69,
      "outputs": [
        {
          "output_type": "stream",
          "name": "stdout",
          "text": [
            "Entering the context\n",
            "Inside the context\n",
            "Exiting the context\n"
          ]
        }
      ]
    },
    {
      "cell_type": "code",
      "source": [
        "import sqlite3\n",
        "\n",
        "class DatabaseConnection:\n",
        "    def __init__(self, db_name):\n",
        "        self.db_name = db_name\n",
        "        self.connection = None\n",
        "        self.cursor = None\n",
        "\n",
        "    def __enter__(self):\n",
        "        # Setup: Open the database connection\n",
        "        self.connection = sqlite3.connect(self.db_name)\n",
        "        self.cursor = self.connection.cursor()\n",
        "        print(\"Database connection established.\")\n",
        "        return self.cursor  # Return the cursor object to the with block\n",
        "\n",
        "    def __exit__(self, exc_type, exc_value, traceback):\n",
        "        # Teardown: Close the database connection\n",
        "        if self.connection:\n",
        "            self.connection.commit()  # Commit any changes if necessary\n",
        "            self.connection.close()  # Close the connection\n",
        "            print(\"Database connection closed.\")\n",
        "        if exc_type:\n",
        "            print(f\"An error occurred: {exc_value}\")\n",
        "        return False  # Propagate exceptions if any\n",
        "\n",
        "# Using the context manager for database operations\n",
        "with DatabaseConnection('example.db') as cursor:\n",
        "    cursor.execute('CREATE TABLE IF NOT EXISTS users (id INTEGER PRIMARY KEY, name TEXT)')\n",
        "    cursor.execute(\"INSERT INTO users (name) VALUES ('Alice')\")\n",
        "    cursor.execute(\"INSERT INTO users (name) VALUES ('Bob')\")\n",
        "    cursor.execute(\"SELECT * FROM users\")\n",
        "\n",
        "    # Fetch and display data from the database\n",
        "    rows = cursor.fetchall()\n",
        "    for row in rows:\n",
        "        print(row)\n"
      ],
      "metadata": {
        "id": "dPxp0gkL6cFA"
      },
      "execution_count": null,
      "outputs": []
    },
    {
      "cell_type": "markdown",
      "source": [
        "# Async"
      ],
      "metadata": {
        "id": "ef2qNisM-6pq"
      }
    },
    {
      "cell_type": "code",
      "source": [
        "import asyncio\n",
        "\n",
        "async def my_coroutine(name):\n",
        "    print(f\"Start {name}\")\n",
        "    await asyncio.sleep(1)\n",
        "    print(f\"End {name}\")\n",
        "    return f\"Result from {name}\"\n",
        "\n",
        "# Running multiple coroutines concurrently and processing their results\n",
        "async def main():\n",
        "    results = await asyncio.gather(\n",
        "        my_coroutine(\"Task 1\"),\n",
        "        my_coroutine(\"Task 2\"),\n",
        "        my_coroutine(\"Task 3\")\n",
        "    )\n",
        "    print(\"All tasks completed\")\n",
        "    print(\"Processed results:\", results)\n",
        "\n",
        "# Run the main function that handles multiple coroutines\n",
        "asyncio.run(main())\n"
      ],
      "metadata": {
        "id": "uB7PihpX-8bU"
      },
      "execution_count": null,
      "outputs": []
    },
    {
      "cell_type": "markdown",
      "source": [
        "Promise like approach"
      ],
      "metadata": {
        "id": "n-budOZeA5NI"
      }
    },
    {
      "cell_type": "code",
      "source": [
        "import asyncio\n",
        "\n",
        "def on_complete(result):\n",
        "    print(f\"Task completed with result: {result}\")\n",
        "\n",
        "async def my_coroutine(callback):\n",
        "    print(\"Start\")\n",
        "    await asyncio.sleep(1)\n",
        "    print(\"End\")\n",
        "    callback(\"Some result\")\n",
        "\n",
        "# Running the coroutine with a callback\n",
        "asyncio.run(my_coroutine(on_complete))\n"
      ],
      "metadata": {
        "id": "G9Z05PjKA3d7"
      },
      "execution_count": null,
      "outputs": []
    },
    {
      "cell_type": "markdown",
      "source": [
        "# Procedural vs Functional Style"
      ],
      "metadata": {
        "id": "I28K2MpQ8yaT"
      }
    },
    {
      "cell_type": "code",
      "source": [
        "# Procedural Style\n",
        "numbers = [1, 2, 3, 4, 5, 6]\n",
        "result = []\n",
        "\n",
        "# Use loops and conditions to process data\n",
        "for num in numbers:\n",
        "    if num % 2 == 0:\n",
        "        result.append(num ** 2)\n",
        "\n",
        "print(result)  # Output: [4, 16, 36]\n"
      ],
      "metadata": {
        "colab": {
          "base_uri": "https://localhost:8080/"
        },
        "id": "ipPalHNR2giZ",
        "outputId": "dbc4bd05-8298-4d57-c9e3-bd2d9ddec195"
      },
      "execution_count": 52,
      "outputs": [
        {
          "output_type": "stream",
          "name": "stdout",
          "text": [
            "[4, 16, 36]\n"
          ]
        }
      ]
    },
    {
      "cell_type": "code",
      "source": [
        "# Functional Style\n",
        "numbers = [1, 2, 3, 4, 5, 6]\n",
        "\n",
        "# Use map, filter, and list comprehensions for transformations\n",
        "result = list(map(lambda x: x ** 2, filter(lambda x: x % 2 == 0, numbers)))\n",
        "\n",
        "print(result)  # Output: [4, 16, 36]\n"
      ],
      "metadata": {
        "colab": {
          "base_uri": "https://localhost:8080/"
        },
        "id": "01KmT-sg2iCI",
        "outputId": "55e3995d-b599-46a1-9b4f-0cec462b739e"
      },
      "execution_count": 53,
      "outputs": [
        {
          "output_type": "stream",
          "name": "stdout",
          "text": [
            "[4, 16, 36]\n"
          ]
        }
      ]
    }
  ]
}