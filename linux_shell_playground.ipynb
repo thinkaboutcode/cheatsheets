{
  "nbformat": 4,
  "nbformat_minor": 0,
  "metadata": {
    "colab": {
      "provenance": [],
      "toc_visible": true,
      "authorship_tag": "ABX9TyNqnmFYuwXCwQRMLzR3Z2rP",
      "include_colab_link": true
    },
    "kernelspec": {
      "name": "python3",
      "display_name": "Python 3"
    },
    "language_info": {
      "name": "python"
    }
  },
  "cells": [
    {
      "cell_type": "markdown",
      "metadata": {
        "id": "view-in-github",
        "colab_type": "text"
      },
      "source": [
        "<a href=\"https://colab.research.google.com/github/thinkaboutcode/cheatsheets/blob/main/linux_shell_playground.ipynb\" target=\"_parent\"><img src=\"https://colab.research.google.com/assets/colab-badge.svg\" alt=\"Open In Colab\"/></a>"
      ]
    },
    {
      "cell_type": "markdown",
      "source": [
        "# Basics"
      ],
      "metadata": {
        "id": "Ou6uK4lrS5jX"
      }
    },
    {
      "cell_type": "code",
      "execution_count": 1,
      "metadata": {
        "colab": {
          "base_uri": "https://localhost:8080/"
        },
        "id": "UF3MwMuxJT2n",
        "outputId": "7018536e-dd5b-428c-af4e-40c93c6bab32"
      },
      "outputs": [
        {
          "output_type": "stream",
          "name": "stdout",
          "text": [
            "let's see\n"
          ]
        }
      ],
      "source": [
        "%%bash\n",
        "name=\"Alice\"\n",
        "echo \"Hello, $name\""
      ]
    },
    {
      "cell_type": "markdown",
      "source": [
        "## Conditional"
      ],
      "metadata": {
        "id": "hjBHyKbEW5_7"
      }
    },
    {
      "cell_type": "code",
      "source": [
        "%%bash\n",
        "if [ \"$name\" == \"Alice\" ]; then\n",
        "  echo \"Hello Alice!\"\n",
        "else\n",
        "  echo \"You are not Alice.\"\n",
        "fi"
      ],
      "metadata": {
        "colab": {
          "base_uri": "https://localhost:8080/"
        },
        "id": "lyh4Gcc0MMcD",
        "outputId": "67a3edb3-310d-48b1-ed48-180df7ee64ed"
      },
      "execution_count": 2,
      "outputs": [
        {
          "output_type": "stream",
          "name": "stdout",
          "text": [
            "You are not Alice.\n"
          ]
        }
      ]
    },
    {
      "cell_type": "markdown",
      "source": [
        "## Loops"
      ],
      "metadata": {
        "id": "zMgkxxiSW8Ix"
      }
    },
    {
      "cell_type": "code",
      "source": [
        "%%bash\n",
        "for i in 1 2 3 4 5; do\n",
        "  echo \"Number $i\"\n",
        "done"
      ],
      "metadata": {
        "colab": {
          "base_uri": "https://localhost:8080/"
        },
        "id": "WnM9M3Z9SD_T",
        "outputId": "b20e6659-f941-45ba-8bd5-7cde44f79000"
      },
      "execution_count": 3,
      "outputs": [
        {
          "output_type": "stream",
          "name": "stdout",
          "text": [
            "Number 1\n",
            "Number 2\n",
            "Number 3\n",
            "Number 4\n",
            "Number 5\n"
          ]
        }
      ]
    },
    {
      "cell_type": "code",
      "source": [
        "%%bash\n",
        "count=1\n",
        "while [ $count -le 5 ]; do\n",
        "  echo \"Count is $count\"\n",
        "  count=$((count + 1))\n",
        "done"
      ],
      "metadata": {
        "colab": {
          "base_uri": "https://localhost:8080/"
        },
        "id": "tT9wZ42dSI1u",
        "outputId": "2dd25b89-23dc-4fd6-f5db-96d715be1ff9"
      },
      "execution_count": 4,
      "outputs": [
        {
          "output_type": "stream",
          "name": "stdout",
          "text": [
            "Count is 1\n",
            "Count is 2\n",
            "Count is 3\n",
            "Count is 4\n",
            "Count is 5\n"
          ]
        }
      ]
    },
    {
      "cell_type": "markdown",
      "source": [
        "## Functions"
      ],
      "metadata": {
        "id": "A2hdUJ-0W9nF"
      }
    },
    {
      "cell_type": "code",
      "source": [
        "%%bash\n",
        "function greet() {\n",
        "  echo \"Hello, $1!\"\n",
        "}\n",
        "greet \"Alice\""
      ],
      "metadata": {
        "colab": {
          "base_uri": "https://localhost:8080/"
        },
        "id": "b8aQ1faiSMj4",
        "outputId": "6e335b99-659d-4743-a68f-f4fef792d05e"
      },
      "execution_count": 5,
      "outputs": [
        {
          "output_type": "stream",
          "name": "stdout",
          "text": [
            "Hello, Alice!\n"
          ]
        }
      ]
    },
    {
      "cell_type": "markdown",
      "source": [
        "# Data Structures"
      ],
      "metadata": {
        "id": "AK_RNkqIS_yg"
      }
    },
    {
      "cell_type": "markdown",
      "source": [
        "## Indexed Arrays"
      ],
      "metadata": {
        "id": "zfSKo-YgS1E-"
      }
    },
    {
      "cell_type": "code",
      "source": [
        "%%bash\n",
        "arr=(\"apple\" \"banana\" \"cherry\")\n",
        "echo ${arr[1]}   # Output: banana"
      ],
      "metadata": {
        "colab": {
          "base_uri": "https://localhost:8080/"
        },
        "id": "6TEPxhFLSidE",
        "outputId": "30bae0a5-d6a6-4938-b47a-c7739134253d"
      },
      "execution_count": 7,
      "outputs": [
        {
          "output_type": "stream",
          "name": "stdout",
          "text": [
            "banana\n"
          ]
        }
      ]
    },
    {
      "cell_type": "markdown",
      "source": [
        "## Associative Arrays"
      ],
      "metadata": {
        "id": "my4xfPwBSut4"
      }
    },
    {
      "cell_type": "code",
      "source": [
        "%%bash\n",
        "declare -A fruit\n",
        "fruit[\"a\"]=\"apple\"\n",
        "fruit[\"b\"]=\"banana\"\n",
        "echo ${fruit[\"a\"]}  # Output: apple\n",
        "echo ${!fruit[@]}\n"
      ],
      "metadata": {
        "colab": {
          "base_uri": "https://localhost:8080/"
        },
        "id": "_FQgpBdMSmWN",
        "outputId": "97ce51d1-cf7f-4bb9-91ae-2fdf5f2d7cb0"
      },
      "execution_count": 12,
      "outputs": [
        {
          "output_type": "stream",
          "name": "stdout",
          "text": [
            "apple\n",
            "b a\n"
          ]
        }
      ]
    },
    {
      "cell_type": "markdown",
      "source": [
        "## Lists"
      ],
      "metadata": {
        "id": "BJfmkApTTQj8"
      }
    },
    {
      "cell_type": "code",
      "source": [
        "%%bash\n",
        "list=()\n",
        "list+=(\"item1\")\n",
        "list+=(\"item2\")\n",
        "echo ${list[@]}  # Output: item1 item2\n"
      ],
      "metadata": {
        "colab": {
          "base_uri": "https://localhost:8080/"
        },
        "id": "PXAQFvvcTR6m",
        "outputId": "0358a09c-f56e-4e21-e6f7-92fc45f968a9"
      },
      "execution_count": 9,
      "outputs": [
        {
          "output_type": "stream",
          "name": "stdout",
          "text": [
            "item1 item2\n"
          ]
        }
      ]
    },
    {
      "cell_type": "markdown",
      "source": [
        "## Stacks"
      ],
      "metadata": {
        "id": "3MNYVX2-TZGu"
      }
    },
    {
      "cell_type": "code",
      "source": [
        "%%bash\n",
        "stack=()\n",
        "stack+=(\"first\")\n",
        "stack+=(\"second\")\n",
        "last_item=${stack[-1]}\n",
        "echo $last_item  # Output: second (top of the stack)\n",
        "stack=(\"${stack[@]:0:${#stack[@]}-1}\")  # Pop operation\n"
      ],
      "metadata": {
        "colab": {
          "base_uri": "https://localhost:8080/"
        },
        "id": "niVmDPWWTamM",
        "outputId": "073958c1-9c19-45a7-f76c-65d9c5a89534"
      },
      "execution_count": 10,
      "outputs": [
        {
          "output_type": "stream",
          "name": "stdout",
          "text": [
            "second\n"
          ]
        }
      ]
    },
    {
      "cell_type": "markdown",
      "source": [
        "# Modularization"
      ],
      "metadata": {
        "id": "Mr0B0RH_UhA5"
      }
    },
    {
      "cell_type": "code",
      "source": [
        "%%bash\n",
        "# mymodule.sh\n",
        "function greet() {\n",
        "    echo \"Hello, $1!\"\n",
        "}\n",
        "\n",
        "VAR=\"I am a variable from mymodule\"\n"
      ],
      "metadata": {
        "id": "fdK3z_-mUq58"
      },
      "execution_count": null,
      "outputs": []
    },
    {
      "cell_type": "code",
      "source": [
        "%%bash\n",
        "# main.sh\n",
        "source mymodule.sh  # or . mymodule.sh\n",
        "\n",
        "greet \"Alice\"       # Output: Hello, Alice!\n",
        "echo $VAR           # Output: I am a variable from mymodule\n"
      ],
      "metadata": {
        "id": "cyqBnZk3Uv-E"
      },
      "execution_count": null,
      "outputs": []
    },
    {
      "cell_type": "markdown",
      "source": [
        "# Observer Pattern"
      ],
      "metadata": {
        "id": "nPk2u2L4WJVv"
      }
    },
    {
      "cell_type": "code",
      "source": [
        "%%bash\n",
        "#!/bin/bash\n",
        "\n",
        "# Define an array to store the observers\n",
        "declare -a observers\n",
        "\n",
        "# Function to subscribe an observer to an event\n",
        "subscribe() {\n",
        "    observers+=(\"$1\")\n",
        "}\n",
        "\n",
        "# Function to notify all observers when the event occurs\n",
        "notify() {\n",
        "    for observer in \"${observers[@]}\"; do\n",
        "        # Invoke the observer function with the event data\n",
        "        \"$observer\" \"$@\"\n",
        "    done\n",
        "}\n",
        "\n",
        "# Example observer functions\n",
        "observer1() {\n",
        "    echo \"Observer 1 received event: $1\"\n",
        "}\n",
        "\n",
        "observer2() {\n",
        "    echo \"Observer 2 received event: $1\"\n",
        "}\n",
        "\n",
        "# Subscribe the observer functions to the event\n",
        "subscribe observer1\n",
        "subscribe observer2\n",
        "\n",
        "# Trigger the event and notify all observers\n",
        "notify \"Event occurred\"\n"
      ],
      "metadata": {
        "colab": {
          "base_uri": "https://localhost:8080/"
        },
        "id": "7nfthoT3VexQ",
        "outputId": "a4e0c861-4732-4445-fbc4-54b4da314e52"
      },
      "execution_count": 13,
      "outputs": [
        {
          "output_type": "stream",
          "name": "stdout",
          "text": [
            "Observer 1 received event: Event occurred\n",
            "Observer 2 received event: Event occurred\n"
          ]
        }
      ]
    }
  ]
}